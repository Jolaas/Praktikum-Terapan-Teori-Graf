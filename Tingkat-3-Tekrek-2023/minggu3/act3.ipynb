{
  "nbformat": 4,
  "nbformat_minor": 0,
  "metadata": {
    "colab": {
      "provenance": []
    },
    "kernelspec": {
      "name": "python3",
      "display_name": "Python 3"
    },
    "language_info": {
      "name": "python"
    }
  },
  "cells": [
    {
      "cell_type": "code",
      "execution_count": 1,
      "metadata": {
        "id": "o_tlRMEpHhYw"
      },
      "outputs": [],
      "source": [
        "graph = {\n",
        "    'A' : ['Z','S', 'T'],\n",
        "    'Z' : ['O'],\n",
        "    'O' : ['S1'],\n",
        "    'S1' : ['F', 'R'],\n",
        "    'F' : ['B'],\n",
        "    'B' : [],\n",
        "    'R' : [],\n",
        "    'S' : ['O1', 'F1', 'R1'],\n",
        "    'O1' : [],\n",
        "    'F1' : ['B1'],\n",
        "    'B1' : [],\n",
        "    'R1' : ['C', 'P'],\n",
        "    'C' : [],\n",
        "    'P' : [],\n",
        "    'T' : ['L'],\n",
        "    'L' : ['M'],\n",
        "    'M' : ['D'],\n",
        "    'D' : []\n",
        "}"
      ]
    },
    {
      "cell_type": "code",
      "source": [
        "visited = set() # Set to keep track of visited nodes of graph."
      ],
      "metadata": {
        "id": "g7EkWrP2I9Vy"
      },
      "execution_count": 2,
      "outputs": []
    },
    {
      "cell_type": "code",
      "source": [
        "def dfs(visited, graph, node): #function for dfs\n",
        "    if node not in visited:\n",
        "      print (node)\n",
        "      visited.add(node)\n",
        "      for neighbour in graph[node]:\n",
        "        dfs(visited, graph, neighbour)"
      ],
      "metadata": {
        "id": "UuFMo5IvJLBU"
      },
      "execution_count": 4,
      "outputs": []
    },
    {
      "cell_type": "code",
      "source": [
        "print(\"Following is the Depth-First Search\")"
      ],
      "metadata": {
        "colab": {
          "base_uri": "https://localhost:8080/",
          "height": 0
        },
        "id": "uyJlfr_mJijo",
        "outputId": "fd4e526f-c5f5-45c2-beb3-9bb8c16fcae0"
      },
      "execution_count": 5,
      "outputs": [
        {
          "output_type": "stream",
          "name": "stdout",
          "text": [
            "Following is the Depth-First Search\n"
          ]
        }
      ]
    },
    {
      "cell_type": "code",
      "source": [
        "dfs(visited, graph, 'A')"
      ],
      "metadata": {
        "colab": {
          "base_uri": "https://localhost:8080/",
          "height": 0
        },
        "id": "ZsW1pLfoJoen",
        "outputId": "145d79b5-209f-47b4-f204-bb974b9215e4"
      },
      "execution_count": 6,
      "outputs": [
        {
          "output_type": "stream",
          "name": "stdout",
          "text": [
            "A\n",
            "Z\n",
            "O\n",
            "S1\n",
            "F\n",
            "B\n",
            "R\n",
            "S\n",
            "O1\n",
            "F1\n",
            "B1\n",
            "R1\n",
            "C\n",
            "P\n",
            "T\n",
            "L\n",
            "M\n",
            "D\n"
          ]
        }
      ]
    }
  ]
}